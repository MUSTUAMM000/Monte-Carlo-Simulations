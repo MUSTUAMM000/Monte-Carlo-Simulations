{
 "cells": [
  {
   "cell_type": "markdown",
   "id": "departmental-links",
   "metadata": {},
   "source": [
    "# Monte carlo simulations"
   ]
  },
  {
   "cell_type": "markdown",
   "id": "healthy-stations",
   "metadata": {},
   "source": [
    "### Your name      "
   ]
  },
  {
   "cell_type": "code",
   "execution_count": 1,
   "id": "tight-excuse",
   "metadata": {},
   "outputs": [],
   "source": [
    "#Ammar Mustufa"
   ]
  },
  {
   "cell_type": "code",
   "execution_count": 3,
   "id": "remarkable-remedy",
   "metadata": {},
   "outputs": [],
   "source": [
    "import numpy as np\n",
    "import pandas as pd\n",
    "import matplotlib.pyplot as plt"
   ]
  },
  {
   "cell_type": "code",
   "execution_count": null,
   "id": "alert-firmware",
   "metadata": {},
   "outputs": [],
   "source": []
  },
  {
   "cell_type": "markdown",
   "id": "simple-nothing",
   "metadata": {},
   "source": [
    "<br><br>\n",
    "scenario #1: Slice of a pie<br><br>\n",
    "\n",
    "Consider a 2x2 square on the coordinate plane with corners at (-1,-1), (-1,1), (1,-1), and (1,1). <br> For each trial generate a random point inside this square (Hint: this can be done by generating two random numbers between -1 and 1.). <br>\n",
    "\n",
    "Count how many points fall inside the unit circle (circle with a center at (0,0) and radius=1). This can be checked using the condition x^2+y^2<=1<br>\n",
    "\n",
    "Record the ratio of number of the points inside the circle over total number of points.\n",
    "<br>\n",
    "Plot this ratio for 100000 trials.<br>\n",
    "\n",
    "Also, print out the value of the last ratio multiplied by 4.<br>"
   ]
  },
  {
   "cell_type": "code",
   "execution_count": 24,
   "id": "honest-hamburg",
   "metadata": {},
   "outputs": [
    {
     "name": "stdout",
     "output_type": "stream",
     "text": [
      "Value of the last ratio multiplied by 4: 3.14008\n"
     ]
    },
    {
     "data": {
      "image/png": "[encoded data removed]",
      "text/plain": [
       "<Figure size 640x480 with 1 Axes>"
      ]
     },
     "metadata": {},
     "output_type": "display_data"
    }
   ],
   "source": [
    "trials = 100000\n",
    "inside = 0\n",
    "ratios = []\n",
    "for x in range(trials):\n",
    "    x = np.random.uniform(-1, 1)\n",
    "    y = np.random.uniform(-1, 1)\n",
    "    if x**2 + y**2 <= 1:\n",
    "        inside += 1\n",
    "    new_ratio = inside / (trials)\n",
    "    ratios.append(new_ratio)\n",
    "final_ratio = ratios[-1] * 4\n",
    "print(\"Value of the last ratio multiplied by 4:\", final_ratio)\n",
    "plt.plot(range(1, num_trials + 1), ratios)\n",
    "plt.grid(True)\n",
    "plt.show()\n"
   ]
  },
  {
   "cell_type": "code",
   "execution_count": null,
   "id": "liable-tucson",
   "metadata": {},
   "outputs": [],
   "source": []
  },
  {
   "cell_type": "code",
   "execution_count": null,
   "id": "drawn-athletics",
   "metadata": {},
   "outputs": [],
   "source": []
  },
  {
   "cell_type": "markdown",
   "id": "paperback-cabinet",
   "metadata": {},
   "source": [
    "###### "
   ]
  },
  {
   "cell_type": "markdown",
   "id": "saved-flashing",
   "metadata": {},
   "source": [
    "scenario #2:   A three-way tie<br><br>\n",
    "\n",
    "The Cardinals currently have 15 wins. The Brewers have 12. The Cubs have 11. The following games are yet to be played:<br>\n",
    "•The Cubs and Cardinals will play each other six more times<br>\n",
    "•The Cubs will play three games against other teams (not Cardinals/Brewers)<br>\n",
    "•The Brewers will play nine games against other teams (not Cubs/Cardinals)<br>\n",
    "\n",
    "Assume the result of each game is like a coin flip: each team has a 50% chance of winning (regardless of who they are playing against).<br>\n",
    "After all these games have been played, what is the probability that the Cardinals, Brewers, and Cubs all have the same number of wins?<br><br>\n",
    "\n",
    "Write a Monte Carlo simulation with 100000 trials. (Hint: should get something close to 2.5%.)<br><br>\n",
    "\n",
    "Tips:<br>\n",
    "•For a series of games against “other teams”, you can pick at random from [1,0] to simulate the outcomes of the games.<br> \n",
    "You can let the sum of those values be the number of wins in that series.<br>\n",
    "•For the Cubs vs. Cardinals series, you can once again pick at random from [1,0] to simulate the outcomes of the games. <br>\n",
    "You could let the sum of those values be the number of wins by the Cubs, and 6 - sum() be the number of wins by the Cardinals.<br>\n",
    "•Let cubs, brewers, and cardinals be variables containing the number of wins of each team. <br>\n",
    "During each trial of the simulation, they will start out at 11, 12, and 15, respectively. <br>\n",
    "Increment their values based on the number of additional wins, then use an if statement to determine if all three values are equal. <br>\n",
    "\n",
    "\n"
   ]
  },
  {
   "cell_type": "code",
   "execution_count": 22,
   "id": "regional-sharing",
   "metadata": {},
   "outputs": [
    {
     "data": {
      "text/plain": [
       "0.02418"
      ]
     },
     "execution_count": 22,
     "metadata": {},
     "output_type": "execute_result"
    }
   ],
   "source": [
    "\n",
    "trials = 100000\n",
    "equalwins = 0\n",
    "for x in range(trials):\n",
    "    cubs = 11\n",
    "    brewers = 12\n",
    "    cardinals = 15\n",
    "    cubswins = np.sum(np.random.choice([0, 1], size=6))\n",
    "    cardinalswins = 6 - cubswins\n",
    "    cubs += cubswins\n",
    "    cardinals += cardinalswins\n",
    "    cubsotherwins = np.sum(np.random.choice([0, 1], size=3))\n",
    "    brewersotherwins = np.sum(np.random.choice([0, 1], size=9))\n",
    "    cubs += cubsotherwins\n",
    "    brewers += brewersotherwins\n",
    "    if cubs == brewers == cardinals:\n",
    "        equalwins += 1\n",
    "\n",
    "probability = equalwins / trials\n",
    "probability\n"
   ]
  },
  {
   "cell_type": "code",
   "execution_count": null,
   "id": "chicken-remainder",
   "metadata": {},
   "outputs": [],
   "source": []
  },
  {
   "cell_type": "markdown",
   "id": "controlled-tobacco",
   "metadata": {},
   "source": [
    "scenario #3:   A trivia game<br><br>\n",
    "\n",
    "Two contestants are playing a trivia game with a total of 30 questions. After a question is asked, each contestant has to “buzz in” before answering. <br>\n",
    "If the contestant wins the buzz in, and answers correctly, they win a point. <br>\n",
    "If they get it wrong, the game moves to the next question (the other contestant does not get a chance to answer).<br><br> \n",
    "\n",
    "Assume:<br>\n",
    " • Contestant A has a probability of 80% of answering correctly, but has a 40% chance of winning the buzz in.<br> \n",
    " • Contestant B has a probability of 50% of answering correctly, but has a 60% chance of winning the buzz in.<br>\n",
    " • Each contestant tries to buzz in for each question.<br><br>\n",
    " \n",
    "Use a Monte Carlo simulation with 100,000 trials to estimate<br>\n",
    "a) the probability that contestant A wins (has a score strictly larger than B); (Hint: should get something close to 51%).<br>\n",
    "b) the probability that contestant B wins (has a score strictly larger than A); (Hint: should get something close to 40%).<br>\n",
    "c) the probability that game ends in a tie; (Hint: should get something close to 9%.)<br><br><br>\n",
    "\n",
    "Tips:<br>\n",
    "\n",
    "For a game of 30 questions (a trial):<br>\n",
    "1. Generate 30 random numbers (1 or 0) with appropriate probabilities. Call it buzz. <br>\n",
    "If the value is 1, contestant A won the buzz for this question, if the value is 0 - contestant B won the buzz for this question. <br>\n",
    "2. a. Generate 30 random numbers (1 or 0) with appropriate probabilities. Call it A_answers. <br>\n",
    "      If the value is 1, contestant A knows the correct answer to this question, if the value is 0 - he/she does not know the correct answer to this question. <br>\n",
    "   b. If you multiply buzz by A_answers, you'll get 1s for the questions A answered correctly. Sum of this array will be the contestant A's score.<br>\n",
    "3. Repeat 2.a for contestant B. <br>\n",
    "   b. mulpitly (1-buzz) by B_answers. <br>\n",
    "4. Compare the contestant A's score to the contestant B's score. <br>\n",
    "<br>\n",
    "Repeat 1-4 steps 100,000 times.<br>\n",
    "\n"
   ]
  },
  {
   "cell_type": "code",
   "execution_count": 21,
   "id": "french-fiction",
   "metadata": {},
   "outputs": [
    {
     "name": "stdout",
     "output_type": "stream",
     "text": [
      "0.5046\n",
      "0.4083\n",
      "0.0871\n"
     ]
    }
   ],
   "source": [
    "\n",
    "trials = 10000 # 100000 was taking too long\n",
    "winsA = 0\n",
    "winsB = 0\n",
    "ties = 0\n",
    "for x in range(trials):\n",
    "    scoreA = 0\n",
    "    scoreB = 0\n",
    "    for x in range(30):\n",
    "        buzzer = np.random.choice([1, 0], p=[0.4, 0.6])\n",
    "        A_buzzes = np.random.choice([1, 0], p=[0.8, 0.2])\n",
    "        B_buzzes = np.random.choice([1, 0], p=[0.5, 0.5])\n",
    "        if buzzer == 1 and A_buzzes == 1:\n",
    "            scoreA += 1\n",
    "        if buzzer == 0 and B_buzzes == 1:\n",
    "            scoreB += 1\n",
    "    if scoreA > scoreB:\n",
    "        winsA += 1\n",
    "    elif scoreB > scoreA:\n",
    "        winsB += 1\n",
    "    elif scoreB == scoreA:\n",
    "        ties += 1\n",
    "probability_that_A_wins = winsA / trials\n",
    "probability_that_B_wins = winsB / trials\n",
    "probability_of_tie = ties / trials\n",
    "print( probability_that_A_wins)\n",
    "print( probability_that_B_wins)\n",
    "print( probability_of_tie)\n"
   ]
  },
  {
   "cell_type": "code",
   "execution_count": null,
   "id": "03d98f33",
   "metadata": {},
   "outputs": [],
   "source": []
  },
  {
   "cell_type": "code",
   "execution_count": null,
   "id": "3ce1dfe5",
   "metadata": {},
   "outputs": [],
   "source": []
  }
 ],
 "metadata": {
  "kernelspec": {
   "display_name": "Python 3 (ipykernel)",
   "language": "python",
   "name": "python3"
  },
  "language_info": {
   "codemirror_mode": {
    "name": "ipython",
    "version": 3
   },
   "file_extension": ".py",
   "mimetype": "text/x-python",
   "name": "python",
   "nbconvert_exporter": "python",
   "pygments_lexer": "ipython3",
   "version": "3.10.9"
  }
 },
 "nbformat": 4,
 "nbformat_minor": 5
}
